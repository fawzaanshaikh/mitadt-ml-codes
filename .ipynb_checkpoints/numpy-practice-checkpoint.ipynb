{
 "cells": [
  {
   "cell_type": "markdown",
   "id": "e3e7a49c",
   "metadata": {},
   "source": [
    "# Introduction to NumPy and Pandas\n",
    "\n",
    "NumPy is a Python library, which stands for ‘Numerical Python’. It is the core \n",
    "library for scientific computing, which contains a powerful n-dimensional array \n",
    "object, provides tools for integrating C, C++ etc.\n",
    "\n",
    "- NumPy array can also be used as an efficient multi-dimensional container for generic data.\n",
    "- The ndarray (NumPy Array) is a multidimensional array used to store values of same datatype. These arrays are indexed just like Sequences, starts with zero.\n",
    "- The ndarrays are better than regular arrays in terms of faster computation and ease of manipulation.\n",
    "- In different algorithms of Machine Learning like K-means Clustering, Random Forest etc. we have to store the values in an array. So, instead of using regular array, ndarray helps us to manipulate and execute easily.\n"
   ]
  },
  {
   "cell_type": "code",
   "execution_count": 1,
   "id": "1d68b710",
   "metadata": {},
   "outputs": [],
   "source": [
    "# importing the required modules\n",
    "\n",
    "import numpy as np\n",
    "import pandas as pd\n",
    "from matplotlib import pyplot"
   ]
  },
  {
   "cell_type": "code",
   "execution_count": 2,
   "id": "76139fcb",
   "metadata": {},
   "outputs": [
    {
     "data": {
      "text/plain": [
       "5"
      ]
     },
     "execution_count": 2,
     "metadata": {},
     "output_type": "execute_result"
    }
   ],
   "source": [
    "3+2"
   ]
  },
  {
   "cell_type": "code",
   "execution_count": 4,
   "id": "8998d5b3",
   "metadata": {},
   "outputs": [
    {
     "name": "stdout",
     "output_type": "stream",
     "text": [
      "Hello, World.\n"
     ]
    }
   ],
   "source": [
    "print(\"Hello, World.\")"
   ]
  },
  {
   "cell_type": "code",
   "execution_count": 1,
   "id": "59a900a3",
   "metadata": {},
   "outputs": [],
   "source": [
    "import numpy as np"
   ]
  },
  {
   "cell_type": "code",
   "execution_count": 2,
   "id": "d1876d29",
   "metadata": {},
   "outputs": [],
   "source": [
    "# Convert to an array\n",
    "a = np.array([1, 2, 3, 4, 5]) # array(list, dtype=)"
   ]
  },
  {
   "cell_type": "code",
   "execution_count": 3,
   "id": "f80ce331",
   "metadata": {},
   "outputs": [
    {
     "name": "stdout",
     "output_type": "stream",
     "text": [
      "[1 2 3 4 5]\n"
     ]
    }
   ],
   "source": [
    "print(a)"
   ]
  },
  {
   "cell_type": "code",
   "execution_count": 5,
   "id": "04b83007",
   "metadata": {},
   "outputs": [
    {
     "name": "stdout",
     "output_type": "stream",
     "text": [
      "1\n",
      "(5,)\n",
      "5\n",
      "int32\n",
      "[1. 2. 3. 4. 5.]\n"
     ]
    }
   ],
   "source": [
    "print(a.ndim) # dimensions of the array\n",
    "print(a.shape) # shape of the array\n",
    "print(len(a)) # length of the array\n",
    "print(a.dtype) # datatype of the array\n",
    "print(a.astype(float)) # type conversion to float64 from int64, this is temporary, in order to save this state, store it in another variable"
   ]
  },
  {
   "cell_type": "markdown",
   "id": "eca41184",
   "metadata": {},
   "source": [
    "# Two Dimensional Array"
   ]
  },
  {
   "cell_type": "code",
   "execution_count": 8,
   "id": "5b6e435a",
   "metadata": {},
   "outputs": [],
   "source": [
    "# Two Dimensional Array\n",
    "b = np.array([(1.5, 2, 3), (4, 5, 6)], dtype=float)"
   ]
  },
  {
   "cell_type": "code",
   "execution_count": 7,
   "id": "f37838be",
   "metadata": {},
   "outputs": [
    {
     "name": "stdout",
     "output_type": "stream",
     "text": [
      "2\n",
      "(2, 3)\n",
      "2\n",
      "float64\n",
      "[[1 2 3]\n",
      " [4 5 6]]\n"
     ]
    }
   ],
   "source": [
    "print(b.ndim) # dimensions of the array\n",
    "print(b.shape) # shape of the array\n",
    "print(len(b)) # length of the array\n",
    "print(b.dtype) # datatype of the array\n",
    "print(b.astype(int)) # type conversion to float64 from int64, this is temporary, in order to save this state, store it in another variable"
   ]
  },
  {
   "cell_type": "code",
   "execution_count": 9,
   "id": "d173ab4e",
   "metadata": {},
   "outputs": [
    {
     "name": "stdout",
     "output_type": "stream",
     "text": [
      "[[1.5 2.  3. ]\n",
      " [4.  5.  6. ]]\n"
     ]
    }
   ],
   "source": [
    "print(b)"
   ]
  },
  {
   "cell_type": "markdown",
   "id": "227ad14e",
   "metadata": {},
   "source": [
    "# Three Dimensional Array"
   ]
  },
  {
   "cell_type": "code",
   "execution_count": 10,
   "id": "cc14c843",
   "metadata": {},
   "outputs": [],
   "source": [
    "# Three Dimensional Array\n",
    "c = np.array([[(1.5, 2, 3), (4, 5, 6)], [(7, 8, 9), (1.3, 6.4, 9.1)]], dtype=float)"
   ]
  },
  {
   "cell_type": "code",
   "execution_count": 11,
   "id": "f459e3a3",
   "metadata": {},
   "outputs": [
    {
     "name": "stdout",
     "output_type": "stream",
     "text": [
      "[[[1.5 2.  3. ]\n",
      "  [4.  5.  6. ]]\n",
      "\n",
      " [[7.  8.  9. ]\n",
      "  [1.3 6.4 9.1]]]\n"
     ]
    }
   ],
   "source": [
    "print(c)"
   ]
  },
  {
   "cell_type": "code",
   "execution_count": 12,
   "id": "6efaf015",
   "metadata": {},
   "outputs": [
    {
     "name": "stdout",
     "output_type": "stream",
     "text": [
      "3\n",
      "(2, 2, 3)\n",
      "2\n",
      "float64\n",
      "[[[1.5 2.  3. ]\n",
      "  [4.  5.  6. ]]\n",
      "\n",
      " [[7.  8.  9. ]\n",
      "  [1.3 6.4 9.1]]]\n"
     ]
    }
   ],
   "source": [
    "print(c.ndim) # dimensions of the array\n",
    "print(c.shape) # shape of the array\n",
    "print(len(c)) # length of the array\n",
    "print(c.dtype) # datatype of the array\n",
    "print(c.astype(float)) # type conversion to float64 from int64, this is temporary, in order to save this state, store it in another variable"
   ]
  },
  {
   "cell_type": "markdown",
   "id": "91d9b8c7",
   "metadata": {},
   "source": [
    "# Array Functions"
   ]
  },
  {
   "cell_type": "code",
   "execution_count": 14,
   "id": "9746ca9b",
   "metadata": {},
   "outputs": [
    {
     "name": "stdout",
     "output_type": "stream",
     "text": [
      "[[0. 0. 0.]\n",
      " [0. 0. 0.]\n",
      " [0. 0. 0.]]\n"
     ]
    }
   ],
   "source": [
    "z = np.zeros((3, 3))\n",
    "print(z)"
   ]
  },
  {
   "cell_type": "code",
   "execution_count": 15,
   "id": "a7cc9c80",
   "metadata": {},
   "outputs": [
    {
     "name": "stdout",
     "output_type": "stream",
     "text": [
      "[[1. 1. 1.]\n",
      " [1. 1. 1.]\n",
      " [1. 1. 1.]]\n"
     ]
    }
   ],
   "source": [
    "o = np.ones((3, 3))\n",
    "print(o)"
   ]
  },
  {
   "cell_type": "code",
   "execution_count": 17,
   "id": "ff6790aa",
   "metadata": {},
   "outputs": [
    {
     "name": "stdout",
     "output_type": "stream",
     "text": [
      "[[1. 1. 1.]\n",
      " [1. 1. 1.]\n",
      " [1. 1. 1.]]\n"
     ]
    }
   ],
   "source": [
    "e = np.empty((3, 3)) # fills with garbage values\n",
    "print(e)"
   ]
  },
  {
   "cell_type": "code",
   "execution_count": 18,
   "id": "3a14fc1c",
   "metadata": {},
   "outputs": [
    {
     "name": "stdout",
     "output_type": "stream",
     "text": [
      "[10 14 18 22]\n"
     ]
    }
   ],
   "source": [
    "d = np.arange(10, 25, 4) # put elements in the array starting from 10 going until 25 with a step count/ space of 4 numbers\n",
    "print(d)"
   ]
  },
  {
   "cell_type": "code",
   "execution_count": 19,
   "id": "28575de6",
   "metadata": {},
   "outputs": [
    {
     "name": "stdout",
     "output_type": "stream",
     "text": [
      "[0.   0.25 0.5  0.75 1.   1.25 1.5  1.75 2.  ]\n"
     ]
    }
   ],
   "source": [
    "# For linear spaced numbers\n",
    "l = np.linspace(0, 2, 9) # linspace(start_number, end_number, no_of_numbers_in_between_them)\n",
    "print(l)"
   ]
  },
  {
   "cell_type": "code",
   "execution_count": 20,
   "id": "44a745a9",
   "metadata": {},
   "outputs": [
    {
     "name": "stdout",
     "output_type": "stream",
     "text": [
      "[[1. 0. 0.]\n",
      " [0. 1. 0.]\n",
      " [0. 0. 1.]]\n"
     ]
    }
   ],
   "source": [
    "e = np.eye(3, 3) # identity matrix\n",
    "print(e)"
   ]
  },
  {
   "cell_type": "code",
   "execution_count": 23,
   "id": "4a55cf85",
   "metadata": {},
   "outputs": [
    {
     "name": "stdout",
     "output_type": "stream",
     "text": [
      "[[0.09790097 0.79285226 0.85492339]\n",
      " [0.90782207 0.69537778 0.17120372]\n",
      " [0.63489483 0.92440894 0.96915099]]\n"
     ]
    }
   ],
   "source": [
    "r = np.random.random((3, 3))\n",
    "print(r)"
   ]
  },
  {
   "cell_type": "code",
   "execution_count": 24,
   "id": "ef9c77a1",
   "metadata": {},
   "outputs": [
    {
     "name": "stdout",
     "output_type": "stream",
     "text": [
      "15\n",
      "1\n",
      "[4. 5. 6.]\n",
      "[3. 6.]\n"
     ]
    }
   ],
   "source": [
    "print(a.sum())\n",
    "print(a.min())\n",
    "print(b.max(axis=0)) # gives maximum from every column\n",
    "print(b.max(axis=1)) # gives maximum from every row"
   ]
  },
  {
   "cell_type": "code",
   "execution_count": 30,
   "id": "f9f76b65",
   "metadata": {},
   "outputs": [
    {
     "name": "stdout",
     "output_type": "stream",
     "text": [
      "3.0\n",
      "3.0\n",
      "1.4142135623730951\n"
     ]
    }
   ],
   "source": [
    "print(a.mean())\n",
    "print(np.median(a))\n",
    "print(a.std())"
   ]
  },
  {
   "cell_type": "code",
   "execution_count": 31,
   "id": "d4e5e21d",
   "metadata": {},
   "outputs": [
    {
     "name": "stdout",
     "output_type": "stream",
     "text": [
      "[1 2]\n",
      "[2. 5.]\n"
     ]
    }
   ],
   "source": [
    "# Slicing\n",
    "print(a[0:2])\n",
    "print(b[0:2, 1]) # First 2 rows and 2nd column"
   ]
  },
  {
   "cell_type": "code",
   "execution_count": 32,
   "id": "7c80fd6d",
   "metadata": {},
   "outputs": [
    {
     "name": "stdout",
     "output_type": "stream",
     "text": [
      "[5 4 3 2 1]\n"
     ]
    }
   ],
   "source": [
    "# Print the reverse\n",
    "print(a[::-1])"
   ]
  },
  {
   "cell_type": "code",
   "execution_count": 34,
   "id": "a9abc232",
   "metadata": {},
   "outputs": [
    {
     "name": "stdout",
     "output_type": "stream",
     "text": [
      "[[1.5 2.  3. ]\n",
      " [4.  5.  6. ]]\n",
      "---------------\n"
     ]
    },
    {
     "data": {
      "text/plain": [
       "array([[1.5, 4. ],\n",
       "       [2. , 5. ],\n",
       "       [3. , 6. ]])"
      ]
     },
     "execution_count": 34,
     "metadata": {},
     "output_type": "execute_result"
    }
   ],
   "source": [
    "# Transposing a matrix\n",
    "print(b)\n",
    "print(\"---------------\")\n",
    "np.transpose(b)"
   ]
  },
  {
   "cell_type": "code",
   "execution_count": 37,
   "id": "369ed60f",
   "metadata": {},
   "outputs": [
    {
     "name": "stdout",
     "output_type": "stream",
     "text": [
      "[1.5 4.  2.  5.  3.  6. ]\n",
      "-------------\n",
      "[[1.5 4.  2. ]\n",
      " [5.  3.  6. ]]\n"
     ]
    }
   ],
   "source": [
    "# Using ravel to vectorize a matrix (flattening to 1D matrix)\n",
    "r = np.ravel(np.transpose(b))\n",
    "print(r)\n",
    "\n",
    "print(\"-------------\")\n",
    "# To reshape the matrix\n",
    "rs = r.reshape(2, 3)\n",
    "print(rs)"
   ]
  },
  {
   "cell_type": "code",
   "execution_count": 38,
   "id": "b6a843ca",
   "metadata": {},
   "outputs": [
    {
     "name": "stdout",
     "output_type": "stream",
     "text": [
      "[[1.  2.  4. ]\n",
      " [1.5 2.  3. ]\n",
      " [4.  5.  6. ]]\n"
     ]
    }
   ],
   "source": [
    "# Concatenating the arrays\n",
    "f = np.array([1, 2, 4], dtype=float)\n",
    "vs = np.vstack((f, b))\n",
    "print(vs)"
   ]
  },
  {
   "cell_type": "markdown",
   "id": "3a796166",
   "metadata": {},
   "source": [
    " # Other NumPy Functions"
   ]
  },
  {
   "cell_type": "code",
   "execution_count": 22,
   "id": "aaa04395",
   "metadata": {},
   "outputs": [],
   "source": [
    "# np.multiply()\n",
    "# np.subtract()\n",
    "# np.add()\n",
    "# np.divide()\n",
    "# np.exp()\n",
    "# np.sqrt()\n",
    "# np.sin()\n",
    "# np.cos()\n",
    "# np.log()\n",
    "# a.dot(b) # a and b's dot product"
   ]
  },
  {
   "cell_type": "code",
   "execution_count": null,
   "id": "e53c564f",
   "metadata": {},
   "outputs": [],
   "source": []
  }
 ],
 "metadata": {
  "kernelspec": {
   "display_name": "Python 3 (ipykernel)",
   "language": "python",
   "name": "python3"
  },
  "language_info": {
   "codemirror_mode": {
    "name": "ipython",
    "version": 3
   },
   "file_extension": ".py",
   "mimetype": "text/x-python",
   "name": "python",
   "nbconvert_exporter": "python",
   "pygments_lexer": "ipython3",
   "version": "3.8.12"
  }
 },
 "nbformat": 4,
 "nbformat_minor": 5
}
